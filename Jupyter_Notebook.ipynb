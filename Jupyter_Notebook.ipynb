{
 "cells": [
  {
   "cell_type": "markdown",
   "metadata": {},
   "source": [
    "<center>\n",
    "    <img src=\"https://cf-courses-data.s3.us.cloud-object-storage.appdomain.cloud/IBMDeveloperSkillsNetwork-DS0105EN-SkillsNetwork/labs/Module2/images/SN_web_lightmode.png\" width=\"300\" alt=\"cognitiveclass.ai logo\">\n",
    "</center>\n"
   ]
  },
  {
   "cell_type": "markdown",
   "metadata": {},
   "source": [
    "#### Add your code below following the instructions given in the course\n"
   ]
  },
  {
   "cell_type": "markdown",
   "metadata": {},
   "source": [
    "My Jupyter Notebook"
   ]
  },
  {
   "cell_type": "markdown",
   "metadata": {},
   "source": [
    "Yves Warren Sumaya"
   ]
  },
  {
   "cell_type": "markdown",
   "metadata": {},
   "source": [
    "Data Scientist"
   ]
  },
  {
   "cell_type": "markdown",
   "metadata": {},
   "source": [
    "I am interested in Data Science because im passionate about uncovering insights from data to solve real-world problems or developing innovative algorithms to advance technology"
   ]
  },
  {
   "cell_type": "markdown",
   "metadata": {},
   "source": [
    "Python,R,,SQL (Structured Query Language),Julia,Java,Scala,JavaScript\n",
    "These languages each have their own strengths and are suited to different aspects of the data science workflow, from data preprocessing and analysis to machine learning model development and deployment.\n",
    "\n",
    "\n",
    "\n"
   ]
  },
  {
   "cell_type": "markdown",
   "metadata": {},
   "source": [
    "Here are some popular libraries and frameworks used in data science:\n",
    "\n",
    "NumPy,Pandas,Matplotlib,Seaborn,scikit-learn,TensorFlow,Keras,PyTorch,SciPy,NLTK (Natural Language Toolkit)\n",
    "\n",
    "These libraries and frameworks are essential for various stages of the data science workflow, from data preprocessing and exploratory analysis to machine learning model development and deployment."
   ]
  },
  {
   "cell_type": "markdown",
   "metadata": {},
   "source": [
    "Table summarizing various data science tools commonly used in the field:\n",
    "\n",
    "| Category          | Tools                                          | Description                                                                                                                                                                 |\n",
    "|-------------------|------------------------------------------------|-----------------------------------------------------------------------------------------------------------------------------------------------------------------------------|\n",
    "| Programming Languages | Python            | General-purpose language with extensive libraries for data manipulation, analysis, and machine learning.                                                                                     |\n",
    "|                   | R                | Statistical programming language with rich ecosystem for data analysis, visualization, and modeling.                                                                      |\n",
    "|                   | SQL              | Language for managing and querying relational databases, crucial for data retrieval and manipulation.                                                                    |\n",
    "|                   | Julia            | High-performance language suitable for numerical computing and data analysis tasks.                                                                                        |\n",
    "| Data Manipulation & Analysis | Pandas           | Python library for data manipulation and analysis, particularly for structured data.                                                                                         |\n",
    "|                   | NumPy            | Fundamental package for scientific computing in Python, providing support for multi-dimensional arrays and matrices.                                                      |\n",
    "| Visualization     | Matplotlib       | Comprehensive plotting library for creating static, interactive, and animated visualizations in Python.                                                                     |\n",
    "|                   | Seaborn          | Statistical data visualization library based on Matplotlib, offering high-level interface for attractive and informative graphics.                                           |\n",
    "|                   | Plotly           | Interactive graphing library that can be used both offline and online, supporting a wide range of chart types and customization options.                                     |\n",
    "| Machine Learning  | scikit-learn     | Python library providing simple and efficient tools for data mining and machine learning tasks.                                                                            |\n",
    "|                   | TensorFlow       | Open-source machine learning framework developed by Google, suitable for building and training deep learning models.                                                        |\n",
    "|                   | PyTorch          | Deep learning framework maintained by Facebook's AI Research lab (FAIR), known for its dynamic computation graph and flexibility.                                          |\n",
    "|                   | XGBoost          | Scalable and efficient implementation of gradient boosting algorithms, widely used for structured data analysis and machine learning competitions.                         |\n",
    "| Natural Language Processing (NLP) | NLTK             | Suite of libraries for natural language processing (NLP) in Python, offering tools for tokenization, stemming, tagging, parsing, and semantic reasoning.              |\n",
    "|                   | spaCy            | NLP library for Python that emphasizes ease of use, efficiency, and performance, suitable for building production-ready NLP applications.                                 |\n",
    "| Data Wrangling    | Trifacta         | Data wrangling platform with visual interface for exploring, cleaning, and preparing data for analysis.                                                                    |\n",
    "|                   | OpenRefine       | Open-source tool for working with messy data: cleaning, transforming, and enriching datasets.                                                                              |\n",
    "| Data Visualization Platforms | Tableau          | Data visualization software offering interactive dashboards and drag-and-drop functionality for creating insightful visualizations.                                         |\n",
    "|                   | Power BI         | Business analytics service by Microsoft, providing interactive visualizations and business intelligence capabilities.                                                      |\n",
    "|                   | Looker           | Business intelligence and data visualization platform offering a unique modeling language for exploring and analyzing data.                                                |\n",
    "| Cloud Platforms   | Amazon Web Services (AWS) | Cloud computing platform offering a wide range of services for data storage, processing, analytics, and machine learning.                                               |\n",
    "|                   | Google Cloud Platform (GCP) | Suite of cloud computing services by Google, providing tools for data storage, analytics, machine learning, and AI.                                                       |\n",
    "|                   | Microsoft Azure  | Cloud computing service by Microsoft, offering various tools and services for data analytics, machine learning, and AI applications.                                      |\n",
    "\n",
    "This table covers a variety of tools across different categories, each serving specific purposes within the data science workflow."
   ]
  },
  {
   "cell_type": "markdown",
   "metadata": {},
   "source": [
    "Markdown cell introducing arithmetic expression examples:\n",
    "\n",
    "\n",
    "\n",
    "## Arithmetic Expression Examples\n",
    "\n",
    "Arithmetic expressions involve mathematical operations such as addition, subtraction, multiplication, and division. They are fundamental in mathematics and frequently used in programming for calculations. Below are some examples of arithmetic expressions:\n",
    "\n",
    "1. **Addition**: Combining two or more numbers to find their sum. Example: \n",
    "5 + 3 = 8\n",
    "\n",
    "\n",
    "\n",
    "\n",
    "2. **Subtraction**: Finding the difference between two numbers. Example:\n",
    "10 - 4 = 6\n",
    "\n",
    "\n",
    "\n",
    "\n",
    "3. **Multiplication**: Repeated addition of the same number. Example:\n",
    "2 * 6 = 12\n",
    "\n",
    "\n",
    "\n",
    "\n",
    "4. **Division**: Sharing a quantity into equal parts. Example:\n",
    "20 / 5 = 4\n",
    "\n",
    "\n",
    "\n",
    "\n",
    "5. **Exponentiation**: Raising a number to a power. Example:\n",
    "2^3 = 8\n",
    "\n",
    "\n",
    "\n",
    "\n",
    "6. **Modulo**: Finding the remainder of a division. Example:\n",
    "10 % 3 = 1\n",
    "\n",
    "\n",
    "\n",
    "These examples illustrate basic arithmetic operations and can be extended to more complex ex"
   ]
  },
  {
   "cell_type": "code",
   "execution_count": 3,
   "metadata": {
    "tags": []
   },
   "outputs": [
    {
     "name": "stdout",
     "output_type": "stream",
     "text": [
      "Multiplication Result: 15\n",
      "Addition Result: 14\n"
     ]
    }
   ],
   "source": [
    "# Multiplication\n",
    "num1 = 5\n",
    "num2 = 3\n",
    "result_multiply = num1 * num2\n",
    "print(\"Multiplication Result:\", result_multiply)\n",
    "\n",
    "# Addition\n",
    "num3 = 10\n",
    "num4 = 4\n",
    "result_addition = num3 + num4\n",
    "print(\"Addition Result:\", result_addition)"
   ]
  },
  {
   "cell_type": "markdown",
   "metadata": {},
   "source": [
    "This code cell first performs multiplication of two numbers (num1 and num2) and then addition of two other numbers (num3 and num4). The results are printed to the console. You can run this code cell in a Python environment to see the output."
   ]
  },
  {
   "cell_type": "code",
   "execution_count": 4,
   "metadata": {
    "tags": []
   },
   "outputs": [
    {
     "name": "stdout",
     "output_type": "stream",
     "text": [
      "150 minutes is equal to 2.5 hours\n"
     ]
    }
   ],
   "source": [
    "# Function to convert minutes to hours\n",
    "def minutes_to_hours(minutes):\n",
    "    hours = minutes / 60\n",
    "    return hours\n",
    "\n",
    "# Example usage\n",
    "minutes = 150\n",
    "hours = minutes_to_hours(minutes)\n",
    "print(minutes, \"minutes is equal to\", hours, \"hours\")"
   ]
  },
  {
   "cell_type": "markdown",
   "metadata": {},
   "source": [
    "In this code cell, we define a function minutes_to_hours() that takes a number of minutes as input and returns the equivalent time in hours. We then demonstrate the usage of this function by converting 150 minutes to hours and printing the result. You can run this code cell in a Python environment to see the output."
   ]
  },
  {
   "cell_type": "markdown",
   "metadata": {},
   "source": [
    "## Objectives\n",
    "\n",
    "- Demonstrate understanding of basic arithmetic operations such as addition, subtraction, multiplication, and division.\n",
    "- Implement a function to convert minutes to hours.\n",
    "- Practice using variables and functions in Python."
   ]
  },
  {
   "cell_type": "code",
   "execution_count": null,
   "metadata": {},
   "outputs": [],
   "source": []
  }
 ],
 "metadata": {
  "kernelspec": {
   "display_name": "Python",
   "language": "python",
   "name": "conda-env-python-py"
  },
  "language_info": {
   "codemirror_mode": {
    "name": "ipython",
    "version": 3
   },
   "file_extension": ".py",
   "mimetype": "text/x-python",
   "name": "python",
   "nbconvert_exporter": "python",
   "pygments_lexer": "ipython3",
   "version": "3.7.12"
  }
 },
 "nbformat": 4,
 "nbformat_minor": 4
}
